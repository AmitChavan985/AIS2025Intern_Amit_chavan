{
 "cells": [
  {
   "cell_type": "code",
   "execution_count": 2,
   "id": "1e3b3a4b-0434-4663-ae81-4016760cfb5e",
   "metadata": {},
   "outputs": [],
   "source": [
    " # 1) Find the Maximum Number from a List\n",
    "\n",
    "def find_max(lst):\n",
    "    if not lst:  # Check if the list is empty\n",
    "        return None\n",
    "    max_value = lst[0]  # Assume the first element is the max\n",
    "    for num in lst:\n",
    "        if num > max_value:\n",
    "            max_value = num\n",
    "    return max_value"
   ]
  },
  {
   "cell_type": "code",
   "execution_count": 3,
   "id": "0d7db8d3-0895-4a70-9b47-06127b93e9ed",
   "metadata": {},
   "outputs": [
    {
     "name": "stdout",
     "output_type": "stream",
     "text": [
      "Maximum number: 30\n"
     ]
    }
   ],
   "source": [
    "numbers = [10, 20, 5, 30, 25]\n",
    "print(\"Maximum number:\", find_max(numbers))"
   ]
  },
  {
   "cell_type": "code",
   "execution_count": 6,
   "id": "de1d52c7-17e7-48c8-ae49-b09aba7bb265",
   "metadata": {},
   "outputs": [],
   "source": [
    "# 2) Sum All Numbers in a List\n",
    "\n",
    "def sum_list(lst):\n",
    "    total = 0\n",
    "    for num in lst:\n",
    "        total += num\n",
    "    return total"
   ]
  },
  {
   "cell_type": "code",
   "execution_count": 7,
   "id": "21827a43-56a5-4fa0-9bd7-3fff263ff901",
   "metadata": {},
   "outputs": [
    {
     "name": "stdout",
     "output_type": "stream",
     "text": [
      "Sum: 20\n"
     ]
    }
   ],
   "source": [
    "numbers = [8, 2, 3, 0, 7]\n",
    "print(\"Sum:\", sum_list(numbers))  "
   ]
  },
  {
   "cell_type": "code",
   "execution_count": 9,
   "id": "33b34611-bec1-4ee4-b3ab-33c4967aad0b",
   "metadata": {},
   "outputs": [],
   "source": [
    "# 3) Get a List with Distinct Elements\n",
    "\n",
    "def unique_elements(lst):\n",
    "    return list(set(lst))  "
   ]
  },
  {
   "cell_type": "code",
   "execution_count": 10,
   "id": "8f88417e-a7f1-4eb0-b146-1f5fcd947561",
   "metadata": {},
   "outputs": [
    {
     "name": "stdout",
     "output_type": "stream",
     "text": [
      "Unique List: [1, 2, 3, 4, 5]\n"
     ]
    }
   ],
   "source": [
    "numbers = [1, 2, 3, 3, 3, 3, 4, 5]\n",
    "print(\"Unique List:\", unique_elements(numbers))  # Output: [1, 2, 3, 4, 5]"
   ]
  },
  {
   "cell_type": "code",
   "execution_count": 11,
   "id": "51c05963-4e99-44a1-aa04-2e5cc84f980b",
   "metadata": {},
   "outputs": [],
   "source": [
    "# 4) Find Total Number of Combinations\n",
    "\n",
    "from itertools import combinations\n",
    "\n",
    "def total_combinations(elements):\n",
    "    result = []\n",
    "    for i in range(2, len(elements) + 1):\n",
    "        result.extend([''.join(comb) for comb in combinations(elements, i)])\n",
    "    return result\n"
   ]
  },
  {
   "cell_type": "code",
   "execution_count": 12,
   "id": "58295160-654d-461a-9f16-016adc49b2fd",
   "metadata": {},
   "outputs": [
    {
     "name": "stdout",
     "output_type": "stream",
     "text": [
      "Combinations: ['ab', 'ac', 'bc', 'abc']\n",
      "Total Combinations: 4\n"
     ]
    }
   ],
   "source": [
    "letters = ['a', 'b', 'c']\n",
    "comb_list = total_combinations(letters)\n",
    "print(\"Combinations:\", comb_list)\n",
    "print(\"Total Combinations:\", len(comb_list))"
   ]
  },
  {
   "cell_type": "code",
   "execution_count": 13,
   "id": "bb7c99ca-a86f-4f11-a435-62f3f71db7aa",
   "metadata": {},
   "outputs": [],
   "source": [
    "# 5) Find Total Number of Permutations\n",
    "\n",
    "from itertools import permutations\n",
    "\n",
    "def total_permutations(elements):\n",
    "    return [''.join(p) for p in permutations(elements, 2)]  \n"
   ]
  },
  {
   "cell_type": "code",
   "execution_count": 14,
   "id": "f0dde203-2873-4545-bcf3-6c8450f13989",
   "metadata": {},
   "outputs": [
    {
     "name": "stdout",
     "output_type": "stream",
     "text": [
      "Permutations: ['ab', 'ac', 'ba', 'bc', 'ca', 'cb']\n",
      "Total Permutations: 6\n"
     ]
    }
   ],
   "source": [
    "letters = ['a', 'b', 'c']\n",
    "perm_list = total_permutations(letters)\n",
    "print(\"Permutations:\", perm_list)\n",
    "print(\"Total Permutations:\", len(perm_list)) "
   ]
  },
  {
   "cell_type": "code",
   "execution_count": 17,
   "id": "efc95860-b69c-4d6b-8cfa-d0d2d9217b37",
   "metadata": {},
   "outputs": [],
   "source": [
    "# 6) Count Vowels and Consonants\n",
    "def count_vowels_consonants(word):\n",
    "    vowels = \"aeiouAEIOU\"\n",
    "    vowel_count = 0\n",
    "    consonant_count = 0\n",
    "\n",
    "    for char in word:\n",
    "        if char.isalpha():  # Check if the character is a letter\n",
    "            if char in vowels:\n",
    "                vowel_count += 1\n",
    "            else:\n",
    "                consonant_count += 1\n",
    "\n",
    "    print(f\"Count of vowels = {vowel_count}\")\n",
    "    print(f\"Count of consonants = {consonant_count}\")\n"
   ]
  },
  {
   "cell_type": "code",
   "execution_count": 18,
   "id": "01c15520-1f3f-4077-9189-68c17ea68277",
   "metadata": {},
   "outputs": [
    {
     "name": "stdout",
     "output_type": "stream",
     "text": [
      "Count of vowels = 3\n",
      "Count of consonants = 7\n"
     ]
    }
   ],
   "source": [
    "count_vowels_consonants(\"statistics\")"
   ]
  },
  {
   "cell_type": "code",
   "execution_count": 20,
   "id": "4bddc277-ef4e-4838-9cb2-726977929d50",
   "metadata": {},
   "outputs": [],
   "source": [
    "# 7) Convert Lowercase Word to Uppercase\n",
    "\n",
    "def to_uppercase(word):\n",
    "    return word.upper()\n",
    "\n"
   ]
  },
  {
   "cell_type": "code",
   "execution_count": 21,
   "id": "194a32de-eaec-45e7-a357-208982e1907b",
   "metadata": {},
   "outputs": [
    {
     "name": "stdout",
     "output_type": "stream",
     "text": [
      "Result is = STATISTICS\n"
     ]
    }
   ],
   "source": [
    "print(\"Result is =\", to_uppercase(\"statistics\"))  \n"
   ]
  },
  {
   "cell_type": "code",
   "execution_count": 23,
   "id": "acb9aeb7-7ccf-4f1e-ad4c-a14e571269a5",
   "metadata": {},
   "outputs": [],
   "source": [
    " # 8) Count Uppercase and Lowercase Letters\n",
    "\n",
    "def count_upper_lower(word):\n",
    "    upper_count = 0\n",
    "    lower_count = 0\n",
    "\n",
    "    for char in word:\n",
    "        if char.isupper():\n",
    "            upper_count += 1\n",
    "        elif char.islower():\n",
    "            lower_count += 1\n",
    "\n",
    "    print(f\"Uppercase letters: {upper_count}\")\n",
    "    print(f\"Lowercase letters: {lower_count}\")\n",
    "    "
   ]
  },
  {
   "cell_type": "code",
   "execution_count": 24,
   "id": "e0f7aefb-0fac-4e1b-8f58-ef9efa64c395",
   "metadata": {},
   "outputs": [
    {
     "name": "stdout",
     "output_type": "stream",
     "text": [
      "Uppercase letters: 5\n",
      "Lowercase letters: 5\n"
     ]
    }
   ],
   "source": [
    "count_upper_lower(\"STatiStiCS\")"
   ]
  },
  {
   "cell_type": "code",
   "execution_count": null,
   "id": "2169420c-d990-46b1-80ee-063c63afb1a2",
   "metadata": {},
   "outputs": [],
   "source": []
  }
 ],
 "metadata": {
  "kernelspec": {
   "display_name": "Python 3 (ipykernel)",
   "language": "python",
   "name": "python3"
  },
  "language_info": {
   "codemirror_mode": {
    "name": "ipython",
    "version": 3
   },
   "file_extension": ".py",
   "mimetype": "text/x-python",
   "name": "python",
   "nbconvert_exporter": "python",
   "pygments_lexer": "ipython3",
   "version": "3.13.1"
  }
 },
 "nbformat": 4,
 "nbformat_minor": 5
}
