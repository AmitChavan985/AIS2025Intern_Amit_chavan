{
 "cells": [
  {
   "cell_type": "code",
   "execution_count": 1,
   "id": "74c8f069-0249-469f-951c-a11f88878875",
   "metadata": {},
   "outputs": [
    {
     "name": "stdout",
     "output_type": "stream",
     "text": [
      "Collecting numpy\n",
      "  Downloading numpy-2.2.2-cp313-cp313-win_amd64.whl.metadata (60 kB)\n",
      "Downloading numpy-2.2.2-cp313-cp313-win_amd64.whl (12.6 MB)\n",
      "   ---------------------------------------- 0.0/12.6 MB ? eta -:--:--\n",
      "   ---------------------------------------- 0.0/12.6 MB ? eta -:--:--\n",
      "   ---------------------------------------- 0.0/12.6 MB ? eta -:--:--\n",
      "   ---------------------------------------- 0.0/12.6 MB ? eta -:--:--\n",
      "   ---------------------------------------- 0.0/12.6 MB ? eta -:--:--\n",
      "   ---------------------------------------- 0.0/12.6 MB ? eta -:--:--\n",
      "   ---------------------------------------- 0.0/12.6 MB ? eta -:--:--\n",
      "   ---------------------------------------- 0.0/12.6 MB ? eta -:--:--\n",
      "    --------------------------------------- 0.3/12.6 MB ? eta -:--:--\n",
      "    --------------------------------------- 0.3/12.6 MB ? eta -:--:--\n",
      "    --------------------------------------- 0.3/12.6 MB ? eta -:--:--\n",
      "    --------------------------------------- 0.3/12.6 MB ? eta -:--:--\n",
      "    --------------------------------------- 0.3/12.6 MB ? eta -:--:--\n",
      "    --------------------------------------- 0.3/12.6 MB ? eta -:--:--\n",
      "    --------------------------------------- 0.3/12.6 MB ? eta -:--:--\n",
      "    --------------------------------------- 0.3/12.6 MB ? eta -:--:--\n",
      "   - -------------------------------------- 0.5/12.6 MB 161.6 kB/s eta 0:01:15\n",
      "   - -------------------------------------- 0.5/12.6 MB 161.6 kB/s eta 0:01:15\n",
      "   - -------------------------------------- 0.5/12.6 MB 161.6 kB/s eta 0:01:15\n",
      "   - -------------------------------------- 0.5/12.6 MB 161.6 kB/s eta 0:01:15\n",
      "   - -------------------------------------- 0.5/12.6 MB 161.6 kB/s eta 0:01:15\n",
      "   - -------------------------------------- 0.5/12.6 MB 161.6 kB/s eta 0:01:15\n",
      "   - -------------------------------------- 0.5/12.6 MB 161.6 kB/s eta 0:01:15\n",
      "   - -------------------------------------- 0.5/12.6 MB 161.6 kB/s eta 0:01:15\n",
      "   - -------------------------------------- 0.5/12.6 MB 161.6 kB/s eta 0:01:15\n",
      "   -- ------------------------------------- 0.8/12.6 MB 155.0 kB/s eta 0:01:17\n",
      "   -- ------------------------------------- 0.8/12.6 MB 155.0 kB/s eta 0:01:17\n",
      "   -- ------------------------------------- 0.8/12.6 MB 155.0 kB/s eta 0:01:17\n",
      "   -- ------------------------------------- 0.8/12.6 MB 155.0 kB/s eta 0:01:17\n",
      "   -- ------------------------------------- 0.8/12.6 MB 155.0 kB/s eta 0:01:17\n",
      "   -- ------------------------------------- 0.8/12.6 MB 155.0 kB/s eta 0:01:17\n",
      "   --- ------------------------------------ 1.0/12.6 MB 167.6 kB/s eta 0:01:09\n",
      "   --- ------------------------------------ 1.0/12.6 MB 167.6 kB/s eta 0:01:09\n",
      "   --- ------------------------------------ 1.0/12.6 MB 167.6 kB/s eta 0:01:09\n",
      "   --- ------------------------------------ 1.0/12.6 MB 167.6 kB/s eta 0:01:09\n",
      "   --- ------------------------------------ 1.0/12.6 MB 167.6 kB/s eta 0:01:09\n",
      "   --- ------------------------------------ 1.0/12.6 MB 167.6 kB/s eta 0:01:09\n",
      "   --- ------------------------------------ 1.0/12.6 MB 167.6 kB/s eta 0:01:09\n",
      "   --- ------------------------------------ 1.0/12.6 MB 167.6 kB/s eta 0:01:09\n",
      "   --- ------------------------------------ 1.0/12.6 MB 167.6 kB/s eta 0:01:09\n",
      "   ---- ----------------------------------- 1.3/12.6 MB 161.4 kB/s eta 0:01:10\n",
      "   ---- ----------------------------------- 1.3/12.6 MB 161.4 kB/s eta 0:01:10\n",
      "   ---- ----------------------------------- 1.3/12.6 MB 161.4 kB/s eta 0:01:10\n",
      "   ---- ----------------------------------- 1.3/12.6 MB 161.4 kB/s eta 0:01:10\n",
      "   ---- ----------------------------------- 1.3/12.6 MB 161.4 kB/s eta 0:01:10\n",
      "   ---- ----------------------------------- 1.3/12.6 MB 161.4 kB/s eta 0:01:10\n",
      "   ---- ----------------------------------- 1.3/12.6 MB 161.4 kB/s eta 0:01:10\n",
      "   ---- ----------------------------------- 1.3/12.6 MB 161.4 kB/s eta 0:01:10\n",
      "   ---- ----------------------------------- 1.3/12.6 MB 161.4 kB/s eta 0:01:10\n",
      "   ---- ----------------------------------- 1.6/12.6 MB 156.7 kB/s eta 0:01:11\n",
      "   ---- ----------------------------------- 1.6/12.6 MB 156.7 kB/s eta 0:01:11\n",
      "   ---- ----------------------------------- 1.6/12.6 MB 156.7 kB/s eta 0:01:11\n",
      "   ---- ----------------------------------- 1.6/12.6 MB 156.7 kB/s eta 0:01:11\n",
      "   ---- ----------------------------------- 1.6/12.6 MB 156.7 kB/s eta 0:01:11\n",
      "   ---- ----------------------------------- 1.6/12.6 MB 156.7 kB/s eta 0:01:11\n",
      "   ----- ---------------------------------- 1.8/12.6 MB 163.0 kB/s eta 0:01:07\n",
      "   ----- ---------------------------------- 1.8/12.6 MB 163.0 kB/s eta 0:01:07\n",
      "   ----- ---------------------------------- 1.8/12.6 MB 163.0 kB/s eta 0:01:07\n",
      "   ----- ---------------------------------- 1.8/12.6 MB 163.0 kB/s eta 0:01:07\n",
      "   ------ --------------------------------- 2.1/12.6 MB 175.6 kB/s eta 0:01:00\n",
      "   ------ --------------------------------- 2.1/12.6 MB 175.6 kB/s eta 0:01:00\n",
      "   ------ --------------------------------- 2.1/12.6 MB 175.6 kB/s eta 0:01:00\n",
      "   ------ --------------------------------- 2.1/12.6 MB 175.6 kB/s eta 0:01:00\n",
      "   ------- -------------------------------- 2.4/12.6 MB 184.4 kB/s eta 0:00:56\n",
      "   ------- -------------------------------- 2.4/12.6 MB 184.4 kB/s eta 0:00:56\n",
      "   ------- -------------------------------- 2.4/12.6 MB 184.4 kB/s eta 0:00:56\n",
      "   ------- -------------------------------- 2.4/12.6 MB 184.4 kB/s eta 0:00:56\n",
      "   ------- -------------------------------- 2.4/12.6 MB 184.4 kB/s eta 0:00:56\n",
      "   -------- ------------------------------- 2.6/12.6 MB 190.9 kB/s eta 0:00:53\n",
      "   -------- ------------------------------- 2.6/12.6 MB 190.9 kB/s eta 0:00:53\n",
      "   -------- ------------------------------- 2.6/12.6 MB 190.9 kB/s eta 0:00:53\n",
      "   -------- ------------------------------- 2.6/12.6 MB 190.9 kB/s eta 0:00:53\n",
      "   --------- ------------------------------ 2.9/12.6 MB 197.5 kB/s eta 0:00:50\n",
      "   --------- ------------------------------ 2.9/12.6 MB 197.5 kB/s eta 0:00:50\n",
      "   --------- ------------------------------ 2.9/12.6 MB 197.5 kB/s eta 0:00:50\n",
      "   --------- ------------------------------ 2.9/12.6 MB 197.5 kB/s eta 0:00:50\n",
      "   --------- ------------------------------ 3.1/12.6 MB 203.3 kB/s eta 0:00:47\n",
      "   --------- ------------------------------ 3.1/12.6 MB 203.3 kB/s eta 0:00:47\n",
      "   --------- ------------------------------ 3.1/12.6 MB 203.3 kB/s eta 0:00:47\n",
      "   --------- ------------------------------ 3.1/12.6 MB 203.3 kB/s eta 0:00:47\n",
      "   --------- ------------------------------ 3.1/12.6 MB 203.3 kB/s eta 0:00:47\n",
      "   ---------- ----------------------------- 3.4/12.6 MB 208.1 kB/s eta 0:00:45\n",
      "   ---------- ----------------------------- 3.4/12.6 MB 208.1 kB/s eta 0:00:45\n",
      "   ---------- ----------------------------- 3.4/12.6 MB 208.1 kB/s eta 0:00:45\n",
      "   ---------- ----------------------------- 3.4/12.6 MB 208.1 kB/s eta 0:00:45\n",
      "   ----------- ---------------------------- 3.7/12.6 MB 212.9 kB/s eta 0:00:42\n",
      "   ----------- ---------------------------- 3.7/12.6 MB 212.9 kB/s eta 0:00:42\n",
      "   ----------- ---------------------------- 3.7/12.6 MB 212.9 kB/s eta 0:00:42\n",
      "   ----------- ---------------------------- 3.7/12.6 MB 212.9 kB/s eta 0:00:42\n",
      "   ------------ --------------------------- 3.9/12.6 MB 217.2 kB/s eta 0:00:40\n",
      "   ------------ --------------------------- 3.9/12.6 MB 217.2 kB/s eta 0:00:40\n",
      "   ------------ --------------------------- 3.9/12.6 MB 217.2 kB/s eta 0:00:40\n",
      "   ------------ --------------------------- 3.9/12.6 MB 217.2 kB/s eta 0:00:40\n",
      "   ------------- -------------------------- 4.2/12.6 MB 221.8 kB/s eta 0:00:38\n",
      "   ------------- -------------------------- 4.2/12.6 MB 221.8 kB/s eta 0:00:38\n",
      "   ------------- -------------------------- 4.2/12.6 MB 221.8 kB/s eta 0:00:38\n",
      "   ------------- -------------------------- 4.2/12.6 MB 221.8 kB/s eta 0:00:38\n",
      "   ------------- -------------------------- 4.2/12.6 MB 221.8 kB/s eta 0:00:38\n",
      "   ------------- -------------------------- 4.2/12.6 MB 221.8 kB/s eta 0:00:38\n",
      "   -------------- ------------------------- 4.5/12.6 MB 220.7 kB/s eta 0:00:37\n",
      "   -------------- ------------------------- 4.5/12.6 MB 220.7 kB/s eta 0:00:37\n",
      "   -------------- ------------------------- 4.5/12.6 MB 220.7 kB/s eta 0:00:37\n",
      "   -------------- ------------------------- 4.5/12.6 MB 220.7 kB/s eta 0:00:37\n",
      "   -------------- ------------------------- 4.5/12.6 MB 220.7 kB/s eta 0:00:37\n",
      "   -------------- ------------------------- 4.5/12.6 MB 220.7 kB/s eta 0:00:37\n",
      "   -------------- ------------------------- 4.7/12.6 MB 222.0 kB/s eta 0:00:36\n",
      "   -------------- ------------------------- 4.7/12.6 MB 222.0 kB/s eta 0:00:36\n",
      "   -------------- ------------------------- 4.7/12.6 MB 222.0 kB/s eta 0:00:36\n",
      "   -------------- ------------------------- 4.7/12.6 MB 222.0 kB/s eta 0:00:36\n",
      "   -------------- ------------------------- 4.7/12.6 MB 222.0 kB/s eta 0:00:36\n",
      "   --------------- ------------------------ 5.0/12.6 MB 223.3 kB/s eta 0:00:35\n",
      "   --------------- ------------------------ 5.0/12.6 MB 223.3 kB/s eta 0:00:35\n",
      "   --------------- ------------------------ 5.0/12.6 MB 223.3 kB/s eta 0:00:35\n",
      "   ---------------- ----------------------- 5.2/12.6 MB 227.2 kB/s eta 0:00:33\n",
      "   ---------------- ----------------------- 5.2/12.6 MB 227.2 kB/s eta 0:00:33\n",
      "   ---------------- ----------------------- 5.2/12.6 MB 227.2 kB/s eta 0:00:33\n",
      "   ---------------- ----------------------- 5.2/12.6 MB 227.2 kB/s eta 0:00:33\n",
      "   ---------------- ----------------------- 5.2/12.6 MB 227.2 kB/s eta 0:00:33\n",
      "   ----------------- ---------------------- 5.5/12.6 MB 229.2 kB/s eta 0:00:32\n",
      "   ----------------- ---------------------- 5.5/12.6 MB 229.2 kB/s eta 0:00:32\n",
      "   ----------------- ---------------------- 5.5/12.6 MB 229.2 kB/s eta 0:00:32\n",
      "   ----------------- ---------------------- 5.5/12.6 MB 229.2 kB/s eta 0:00:32\n",
      "   ----------------- ---------------------- 5.5/12.6 MB 229.2 kB/s eta 0:00:32\n",
      "   ------------------ --------------------- 5.8/12.6 MB 230.0 kB/s eta 0:00:30\n",
      "   ------------------ --------------------- 5.8/12.6 MB 230.0 kB/s eta 0:00:30\n",
      "   ------------------ --------------------- 5.8/12.6 MB 230.0 kB/s eta 0:00:30\n",
      "   ------------------ --------------------- 5.8/12.6 MB 230.0 kB/s eta 0:00:30\n",
      "   ------------------ --------------------- 5.8/12.6 MB 230.0 kB/s eta 0:00:30\n",
      "   ------------------- -------------------- 6.0/12.6 MB 230.2 kB/s eta 0:00:29\n",
      "   ------------------- -------------------- 6.0/12.6 MB 230.2 kB/s eta 0:00:29\n",
      "   ------------------- -------------------- 6.0/12.6 MB 230.2 kB/s eta 0:00:29\n",
      "   ------------------- -------------------- 6.0/12.6 MB 230.2 kB/s eta 0:00:29\n",
      "   ------------------- -------------------- 6.0/12.6 MB 230.2 kB/s eta 0:00:29\n",
      "   ------------------- -------------------- 6.3/12.6 MB 231.5 kB/s eta 0:00:28\n",
      "   ------------------- -------------------- 6.3/12.6 MB 231.5 kB/s eta 0:00:28\n",
      "   ------------------- -------------------- 6.3/12.6 MB 231.5 kB/s eta 0:00:28\n",
      "   ------------------- -------------------- 6.3/12.6 MB 231.5 kB/s eta 0:00:28\n",
      "   ------------------- -------------------- 6.3/12.6 MB 231.5 kB/s eta 0:00:28\n",
      "   ------------------- -------------------- 6.3/12.6 MB 231.5 kB/s eta 0:00:28\n",
      "   -------------------- ------------------- 6.6/12.6 MB 231.1 kB/s eta 0:00:27\n",
      "   -------------------- ------------------- 6.6/12.6 MB 231.1 kB/s eta 0:00:27\n",
      "   -------------------- ------------------- 6.6/12.6 MB 231.1 kB/s eta 0:00:27\n",
      "   -------------------- ------------------- 6.6/12.6 MB 231.1 kB/s eta 0:00:27\n",
      "   -------------------- ------------------- 6.6/12.6 MB 231.1 kB/s eta 0:00:27\n",
      "   -------------------- ------------------- 6.6/12.6 MB 231.1 kB/s eta 0:00:27\n",
      "   --------------------- ------------------ 6.8/12.6 MB 230.2 kB/s eta 0:00:26\n",
      "   --------------------- ------------------ 6.8/12.6 MB 230.2 kB/s eta 0:00:26\n",
      "   --------------------- ------------------ 6.8/12.6 MB 230.2 kB/s eta 0:00:26\n",
      "   --------------------- ------------------ 6.8/12.6 MB 230.2 kB/s eta 0:00:26\n",
      "   --------------------- ------------------ 6.8/12.6 MB 230.2 kB/s eta 0:00:26\n",
      "   ---------------------- ----------------- 7.1/12.6 MB 230.2 kB/s eta 0:00:25\n",
      "   ---------------------- ----------------- 7.1/12.6 MB 230.2 kB/s eta 0:00:25\n",
      "   ---------------------- ----------------- 7.1/12.6 MB 230.2 kB/s eta 0:00:25\n",
      "   ---------------------- ----------------- 7.1/12.6 MB 230.2 kB/s eta 0:00:25\n",
      "   ---------------------- ----------------- 7.1/12.6 MB 230.2 kB/s eta 0:00:25\n",
      "   ---------------------- ----------------- 7.1/12.6 MB 230.2 kB/s eta 0:00:25\n",
      "   ----------------------- ---------------- 7.3/12.6 MB 233.3 kB/s eta 0:00:23\n",
      "   ----------------------- ---------------- 7.3/12.6 MB 233.3 kB/s eta 0:00:23\n",
      "   ----------------------- ---------------- 7.3/12.6 MB 233.3 kB/s eta 0:00:23\n",
      "   ----------------------- ---------------- 7.3/12.6 MB 233.3 kB/s eta 0:00:23\n",
      "   ----------------------- ---------------- 7.3/12.6 MB 233.3 kB/s eta 0:00:23\n",
      "   ----------------------- ---------------- 7.3/12.6 MB 233.3 kB/s eta 0:00:23\n",
      "   ----------------------- ---------------- 7.3/12.6 MB 233.3 kB/s eta 0:00:23\n",
      "   ----------------------- ---------------- 7.3/12.6 MB 233.3 kB/s eta 0:00:23\n",
      "   ------------------------ --------------- 7.6/12.6 MB 234.9 kB/s eta 0:00:22\n",
      "   ------------------------ --------------- 7.6/12.6 MB 234.9 kB/s eta 0:00:22\n",
      "   ------------------------ --------------- 7.6/12.6 MB 234.9 kB/s eta 0:00:22\n",
      "   ------------------------ --------------- 7.6/12.6 MB 234.9 kB/s eta 0:00:22\n",
      "   ------------------------ --------------- 7.6/12.6 MB 234.9 kB/s eta 0:00:22\n",
      "   ------------------------ --------------- 7.6/12.6 MB 234.9 kB/s eta 0:00:22\n",
      "   ------------------------ --------------- 7.6/12.6 MB 234.9 kB/s eta 0:00:22\n",
      "   ------------------------ --------------- 7.9/12.6 MB 233.5 kB/s eta 0:00:21\n",
      "   ------------------------ --------------- 7.9/12.6 MB 233.5 kB/s eta 0:00:21\n",
      "   ------------------------ --------------- 7.9/12.6 MB 233.5 kB/s eta 0:00:21\n",
      "   ------------------------ --------------- 7.9/12.6 MB 233.5 kB/s eta 0:00:21\n",
      "   ------------------------ --------------- 7.9/12.6 MB 233.5 kB/s eta 0:00:21\n",
      "   ------------------------ --------------- 7.9/12.6 MB 233.5 kB/s eta 0:00:21\n",
      "   ------------------------ --------------- 7.9/12.6 MB 233.5 kB/s eta 0:00:21\n",
      "   ------------------------ --------------- 7.9/12.6 MB 233.5 kB/s eta 0:00:21\n",
      "   ------------------------ --------------- 7.9/12.6 MB 233.5 kB/s eta 0:00:21\n",
      "   ------------------------ --------------- 7.9/12.6 MB 233.5 kB/s eta 0:00:21\n",
      "   ------------------------- -------------- 8.1/12.6 MB 231.9 kB/s eta 0:00:20\n",
      "   ------------------------- -------------- 8.1/12.6 MB 231.9 kB/s eta 0:00:20\n",
      "   ------------------------- -------------- 8.1/12.6 MB 231.9 kB/s eta 0:00:20\n",
      "   ------------------------- -------------- 8.1/12.6 MB 231.9 kB/s eta 0:00:20\n",
      "   -------------------------- ------------- 8.4/12.6 MB 240.5 kB/s eta 0:00:18\n",
      "   -------------------------- ------------- 8.4/12.6 MB 240.5 kB/s eta 0:00:18\n",
      "   -------------------------- ------------- 8.4/12.6 MB 240.5 kB/s eta 0:00:18\n",
      "   --------------------------- ------------ 8.7/12.6 MB 243.1 kB/s eta 0:00:17\n",
      "   --------------------------- ------------ 8.7/12.6 MB 243.1 kB/s eta 0:00:17\n",
      "   --------------------------- ------------ 8.7/12.6 MB 243.1 kB/s eta 0:00:17\n",
      "   ---------------------------- ----------- 8.9/12.6 MB 246.7 kB/s eta 0:00:15\n",
      "   ---------------------------- ----------- 8.9/12.6 MB 246.7 kB/s eta 0:00:15\n",
      "   ---------------------------- ----------- 8.9/12.6 MB 246.7 kB/s eta 0:00:15\n",
      "   ---------------------------- ----------- 8.9/12.6 MB 246.7 kB/s eta 0:00:15\n",
      "   ---------------------------- ----------- 8.9/12.6 MB 246.7 kB/s eta 0:00:15\n",
      "   ----------------------------- ---------- 9.2/12.6 MB 249.6 kB/s eta 0:00:14\n",
      "   ----------------------------- ---------- 9.2/12.6 MB 249.6 kB/s eta 0:00:14\n",
      "   ----------------------------- ---------- 9.2/12.6 MB 249.6 kB/s eta 0:00:14\n",
      "   ----------------------------- ---------- 9.2/12.6 MB 249.6 kB/s eta 0:00:14\n",
      "   ----------------------------- ---------- 9.4/12.6 MB 250.2 kB/s eta 0:00:13\n",
      "   ----------------------------- ---------- 9.4/12.6 MB 250.2 kB/s eta 0:00:13\n",
      "   ------------------------------ --------- 9.7/12.6 MB 254.9 kB/s eta 0:00:12\n",
      "   ------------------------------ --------- 9.7/12.6 MB 254.9 kB/s eta 0:00:12\n",
      "   ------------------------------- -------- 10.0/12.6 MB 259.2 kB/s eta 0:00:11\n",
      "   ------------------------------- -------- 10.0/12.6 MB 259.2 kB/s eta 0:00:11\n",
      "   -------------------------------- ------- 10.2/12.6 MB 264.8 kB/s eta 0:00:10\n",
      "   --------------------------------- ------ 10.5/12.6 MB 270.9 kB/s eta 0:00:08\n",
      "   --------------------------------- ------ 10.5/12.6 MB 270.9 kB/s eta 0:00:08\n",
      "   ---------------------------------- ----- 10.7/12.6 MB 276.9 kB/s eta 0:00:07\n",
      "   ---------------------------------- ----- 11.0/12.6 MB 283.3 kB/s eta 0:00:06\n",
      "   ----------------------------------- ---- 11.3/12.6 MB 289.7 kB/s eta 0:00:05\n",
      "   ------------------------------------ --- 11.5/12.6 MB 296.7 kB/s eta 0:00:04\n",
      "   ------------------------------------ --- 11.5/12.6 MB 296.7 kB/s eta 0:00:04\n",
      "   ------------------------------------- -- 11.8/12.6 MB 302.5 kB/s eta 0:00:03\n",
      "   -------------------------------------- - 12.1/12.6 MB 309.3 kB/s eta 0:00:02\n",
      "   ---------------------------------------  12.3/12.6 MB 315.8 kB/s eta 0:00:01\n",
      "   ---------------------------------------- 12.6/12.6 MB 323.6 kB/s eta 0:00:00\n",
      "Installing collected packages: numpy\n",
      "Successfully installed numpy-2.2.2\n",
      "Note: you may need to restart the kernel to use updated packages.\n"
     ]
    },
    {
     "name": "stderr",
     "output_type": "stream",
     "text": [
      "\n",
      "[notice] A new release of pip is available: 24.3.1 -> 25.0\n",
      "[notice] To update, run: python.exe -m pip install --upgrade pip\n"
     ]
    }
   ],
   "source": [
    "pip install numpy\n"
   ]
  },
  {
   "cell_type": "code",
   "execution_count": 2,
   "id": "ddcb81ea-6bf6-4b03-9059-5f888f6a1c72",
   "metadata": {},
   "outputs": [],
   "source": [
    "# Arryays in NumPy\n",
    "import numpy as np\n",
    "\n",
    "# 1D array\n",
    "arr1 = np.array([1, 2, 3])\n",
    "\n",
    "# 2D array\n",
    "arr2 = np.array([[1, 2], [3, 4]])\n",
    "\n",
    "# Array of zeros\n",
    "zeros = np.zeros((2, 3))\n",
    "\n",
    "# Array of ones\n",
    "ones = np.ones((3, 4))\n",
    "\n",
    "# Array with a range of numbers\n",
    "range_arr = np.arange(0, 10, 2)\n",
    "\n",
    "# Linearly spaced array\n",
    "linspace_arr = np.linspace(0, 1, 5)  # 5 numbers between 0 and 1\n"
   ]
  },
  {
   "cell_type": "code",
   "execution_count": 3,
   "id": "f087df7a-6987-4dc6-9ccb-fc464b3114e6",
   "metadata": {},
   "outputs": [
    {
     "data": {
      "text/plain": [
       "array([1, 2, 3])"
      ]
     },
     "execution_count": 3,
     "metadata": {},
     "output_type": "execute_result"
    }
   ],
   "source": [
    "arr1"
   ]
  },
  {
   "cell_type": "code",
   "execution_count": 5,
   "id": "82100d2d-7fcf-4191-94c6-cbcb19f352bb",
   "metadata": {},
   "outputs": [
    {
     "data": {
      "text/plain": [
       "array([[1, 2],\n",
       "       [3, 4]])"
      ]
     },
     "execution_count": 5,
     "metadata": {},
     "output_type": "execute_result"
    }
   ],
   "source": [
    "arr2\n"
   ]
  },
  {
   "cell_type": "code",
   "execution_count": 6,
   "id": "26fa75bf-2d66-40fd-940d-a2e86619a458",
   "metadata": {},
   "outputs": [
    {
     "data": {
      "text/plain": [
       "array([[0., 0., 0.],\n",
       "       [0., 0., 0.]])"
      ]
     },
     "execution_count": 6,
     "metadata": {},
     "output_type": "execute_result"
    }
   ],
   "source": [
    "zeros"
   ]
  },
  {
   "cell_type": "code",
   "execution_count": 7,
   "id": "11b735a7-2ba0-4249-b327-a6cb21e22d8d",
   "metadata": {},
   "outputs": [
    {
     "data": {
      "text/plain": [
       "array([[1., 1., 1., 1.],\n",
       "       [1., 1., 1., 1.],\n",
       "       [1., 1., 1., 1.]])"
      ]
     },
     "execution_count": 7,
     "metadata": {},
     "output_type": "execute_result"
    }
   ],
   "source": [
    "ones"
   ]
  },
  {
   "cell_type": "code",
   "execution_count": 8,
   "id": "6a89c412-d327-4cdd-a8f8-c7a899f020ea",
   "metadata": {},
   "outputs": [
    {
     "data": {
      "text/plain": [
       "array([0, 2, 4, 6, 8])"
      ]
     },
     "execution_count": 8,
     "metadata": {},
     "output_type": "execute_result"
    }
   ],
   "source": [
    "range_arr"
   ]
  },
  {
   "cell_type": "code",
   "execution_count": 9,
   "id": "2c86bf1b-a3d6-4ae7-9147-937df602d2e2",
   "metadata": {},
   "outputs": [
    {
     "data": {
      "text/plain": [
       "array([0.  , 0.25, 0.5 , 0.75, 1.  ])"
      ]
     },
     "execution_count": 9,
     "metadata": {},
     "output_type": "execute_result"
    }
   ],
   "source": [
    "linspace_arr"
   ]
  },
  {
   "cell_type": "code",
   "execution_count": 10,
   "id": "b7bfe0b8-5fba-4387-9a71-1f8e37d4f37a",
   "metadata": {},
   "outputs": [],
   "source": [
    "# Arry Operation\n",
    "arr1 = np.array([1, 2, 3])\n",
    "arr2 = np.array([4, 5, 6])\n",
    "\n",
    "# Addition\n",
    "sum_arr = arr1 + arr2\n",
    "\n",
    "# Subtraction\n",
    "diff_arr = arr1 - arr2\n",
    "\n",
    "# Multiplication\n",
    "prod_arr = arr1 * arr2\n",
    "\n",
    "# Division\n",
    "div_arr = arr1 / arr2\n"
   ]
  },
  {
   "cell_type": "code",
   "execution_count": 12,
   "id": "4430f5eb-af8f-4104-889c-db5a5d1c56f7",
   "metadata": {},
   "outputs": [],
   "source": [
    "arr1 = np.array([1, 2, 3])\n",
    "arr2 = np.array([4, 5, 6])"
   ]
  },
  {
   "cell_type": "code",
   "execution_count": 14,
   "id": "cf848350-bcea-495f-ba1b-ed577ab49b05",
   "metadata": {},
   "outputs": [
    {
     "data": {
      "text/plain": [
       "array([5, 7, 9])"
      ]
     },
     "execution_count": 14,
     "metadata": {},
     "output_type": "execute_result"
    }
   ],
   "source": [
    "sum_arr = arr1 + arr2\n",
    "sum_arr"
   ]
  },
  {
   "cell_type": "code",
   "execution_count": 15,
   "id": "a35104e2-989f-407d-bdbc-7a3abfb0c0c4",
   "metadata": {},
   "outputs": [
    {
     "data": {
      "text/plain": [
       "array([-3, -3, -3])"
      ]
     },
     "execution_count": 15,
     "metadata": {},
     "output_type": "execute_result"
    }
   ],
   "source": [
    "diff_arr = arr1 - arr2\n",
    "diff_arr \n"
   ]
  },
  {
   "cell_type": "code",
   "execution_count": 16,
   "id": "1aec61e2-6d83-41b8-8baf-ee699ddc323f",
   "metadata": {},
   "outputs": [
    {
     "data": {
      "text/plain": [
       "array([ 4, 10, 18])"
      ]
     },
     "execution_count": 16,
     "metadata": {},
     "output_type": "execute_result"
    }
   ],
   "source": [
    "prod_arr = arr1 * arr2\n",
    "prod_arr"
   ]
  },
  {
   "cell_type": "code",
   "execution_count": 17,
   "id": "7f6b42df-e713-4d8b-8db9-7371db289cce",
   "metadata": {},
   "outputs": [
    {
     "data": {
      "text/plain": [
       "array([0.25, 0.4 , 0.5 ])"
      ]
     },
     "execution_count": 17,
     "metadata": {},
     "output_type": "execute_result"
    }
   ],
   "source": [
    "div_arr = arr1 / arr2\n",
    "div_arr"
   ]
  },
  {
   "cell_type": "code",
   "execution_count": null,
   "id": "4e40dc7b-9ed3-4c1d-9d6a-d93ac0b18ce1",
   "metadata": {},
   "outputs": [],
   "source": [
    "# Broadcasting\n",
    "arr = np.array([1, 2, 3])\n",
    "scalar = 2\n",
    "result = arr + scalar  # Adds 2 to each element of arr\n",
    "\n",
    "# Broadcasting with two arrays of different shapes\n",
    "arr1 = np.array([1, 2, 3])\n",
    "arr2 = np.array([[4], [5], [6]])\n",
    "result_broadcast = arr1 + arr2  # Will broadcast arr2 to match arr1's shape\n",
    "\n"
   ]
  },
  {
   "cell_type": "code",
   "execution_count": 20,
   "id": "db82aac5-430c-42a9-a96a-988f683abce4",
   "metadata": {},
   "outputs": [],
   "source": [
    "arr = np.array([1, 2, 3])\n",
    "scalar = 2\n",
    "result = arr + scalar \n"
   ]
  },
  {
   "cell_type": "raw",
   "id": "9f025e02-b040-4ae3-9fad-800697574503",
   "metadata": {},
   "source": [
    "arr\n"
   ]
  },
  {
   "cell_type": "code",
   "execution_count": 21,
   "id": "61332b91-c187-49b9-8510-e77da506710c",
   "metadata": {},
   "outputs": [
    {
     "data": {
      "text/plain": [
       "2"
      ]
     },
     "execution_count": 21,
     "metadata": {},
     "output_type": "execute_result"
    }
   ],
   "source": [
    "scalar"
   ]
  },
  {
   "cell_type": "code",
   "execution_count": 22,
   "id": "21be67e6-9891-4c84-a545-4433b1b456b1",
   "metadata": {},
   "outputs": [
    {
     "data": {
      "text/plain": [
       "array([3, 4, 5])"
      ]
     },
     "execution_count": 22,
     "metadata": {},
     "output_type": "execute_result"
    }
   ],
   "source": [
    "result"
   ]
  },
  {
   "cell_type": "code",
   "execution_count": 23,
   "id": "1eff9c29-8787-4377-8acd-a3b2ce6d3e1b",
   "metadata": {},
   "outputs": [],
   "source": [
    "arr1 = np.array([1, 2, 3])\n",
    "arr2 = np.array([[4], [5], [6]])\n",
    "result_broadcast = arr1 + arr2  "
   ]
  },
  {
   "cell_type": "code",
   "execution_count": 24,
   "id": "7587d665-528f-4351-8e83-0cc3fa2a95b7",
   "metadata": {},
   "outputs": [
    {
     "data": {
      "text/plain": [
       "array([[5, 6, 7],\n",
       "       [6, 7, 8],\n",
       "       [7, 8, 9]])"
      ]
     },
     "execution_count": 24,
     "metadata": {},
     "output_type": "execute_result"
    }
   ],
   "source": [
    "result_broadcast"
   ]
  },
  {
   "cell_type": "code",
   "execution_count": 25,
   "id": "6003f408-b0f8-4886-8115-6746a1bdf946",
   "metadata": {},
   "outputs": [],
   "source": [
    "# Element wise operation\n",
    "arr = np.array([1, 4, 9])\n",
    "\n",
    "# Square root of each element\n",
    "sqrt_arr = np.sqrt(arr)\n",
    "\n",
    "# Sine of each element\n",
    "sin_arr = np.sin(arr)\n"
   ]
  },
  {
   "cell_type": "code",
   "execution_count": 27,
   "id": "0f7b9371-1518-470e-bfef-b25c2b0e6cf2",
   "metadata": {},
   "outputs": [
    {
     "data": {
      "text/plain": [
       "array([1, 4, 9])"
      ]
     },
     "execution_count": 27,
     "metadata": {},
     "output_type": "execute_result"
    }
   ],
   "source": [
    "arr\n"
   ]
  },
  {
   "cell_type": "code",
   "execution_count": 28,
   "id": "97424cec-42a4-4953-a2fa-ebabc409c94d",
   "metadata": {},
   "outputs": [
    {
     "data": {
      "text/plain": [
       "array([1., 2., 3.])"
      ]
     },
     "execution_count": 28,
     "metadata": {},
     "output_type": "execute_result"
    }
   ],
   "source": [
    "sqrt_arr"
   ]
  },
  {
   "cell_type": "code",
   "execution_count": 29,
   "id": "9866be43-6171-4aca-b3ab-9cd8eba74295",
   "metadata": {},
   "outputs": [
    {
     "data": {
      "text/plain": [
       "array([ 0.84147098, -0.7568025 ,  0.41211849])"
      ]
     },
     "execution_count": 29,
     "metadata": {},
     "output_type": "execute_result"
    }
   ],
   "source": [
    "sin_arr"
   ]
  },
  {
   "cell_type": "code",
   "execution_count": 31,
   "id": "16fc244d-643f-44e3-93ac-0ea0e7b72577",
   "metadata": {},
   "outputs": [
    {
     "name": "stdout",
     "output_type": "stream",
     "text": [
      "(2, 3)\n",
      "2\n"
     ]
    }
   ],
   "source": [
    "# changing the shape\n",
    "arr = np.array([[1, 2, 3], [4, 5, 6]])\n",
    "print(arr.shape)  # (2, 3), 2 rows and 3 columns\n",
    "print(arr.ndim)   # 2, number of dimensions\n"
   ]
  },
  {
   "cell_type": "code",
   "execution_count": 33,
   "id": "d837276d-cd99-45d3-a7f1-b412e4bef109",
   "metadata": {},
   "outputs": [],
   "source": [
    "arr = np.array([1, 2, 3, 4, 5, 6])\n",
    "\n",
    "# Reshaping to 2x3\n",
    "reshaped_arr = arr.reshape(2, 3)\n",
    "\n",
    "# Flattening to 1D\n",
    "flattened_arr = arr.flatten()\n",
    "\n",
    "# Transposing (swapping rows and columns)\n",
    "transposed_arr = arr.T\n"
   ]
  },
  {
   "cell_type": "code",
   "execution_count": 34,
   "id": "60df9cde-fc4e-4c22-a5c1-632f90c89c18",
   "metadata": {},
   "outputs": [
    {
     "data": {
      "text/plain": [
       "array([1, 2, 3, 4, 5, 6])"
      ]
     },
     "execution_count": 34,
     "metadata": {},
     "output_type": "execute_result"
    }
   ],
   "source": [
    "arr"
   ]
  },
  {
   "cell_type": "code",
   "execution_count": 35,
   "id": "fac97cbf-fa71-4834-9d86-9e2ecad71a6d",
   "metadata": {},
   "outputs": [
    {
     "data": {
      "text/plain": [
       "array([[1, 2, 3],\n",
       "       [4, 5, 6]])"
      ]
     },
     "execution_count": 35,
     "metadata": {},
     "output_type": "execute_result"
    }
   ],
   "source": [
    "reshaped_arr"
   ]
  },
  {
   "cell_type": "code",
   "execution_count": 36,
   "id": "8ca412b7-8116-4948-b502-82996c590761",
   "metadata": {},
   "outputs": [
    {
     "data": {
      "text/plain": [
       "array([1, 2, 3, 4, 5, 6])"
      ]
     },
     "execution_count": 36,
     "metadata": {},
     "output_type": "execute_result"
    }
   ],
   "source": [
    "flattened_arr"
   ]
  },
  {
   "cell_type": "code",
   "execution_count": 37,
   "id": "478a80ce-e795-45ff-891a-84972ef35785",
   "metadata": {},
   "outputs": [
    {
     "data": {
      "text/plain": [
       "array([1, 2, 3, 4, 5, 6])"
      ]
     },
     "execution_count": 37,
     "metadata": {},
     "output_type": "execute_result"
    }
   ],
   "source": [
    "transposed_arr"
   ]
  },
  {
   "cell_type": "code",
   "execution_count": 38,
   "id": "45937089-bb4b-4d2c-9922-a7e7ef259cc4",
   "metadata": {},
   "outputs": [],
   "source": [
    "# Concatenating and spliting\n",
    "\n",
    "arr1 = np.array([1, 2])\n",
    "arr2 = np.array([3, 4])\n",
    "\n",
    "# Concatenate along an axis\n",
    "concat_arr = np.concatenate([arr1, arr2])\n",
    "\n",
    "# Stacking arrays vertically\n",
    "vstack_arr = np.vstack([arr1, arr2])\n",
    "\n",
    "# Horizontal stacking\n",
    "hstack_arr = np.hstack([arr1, arr2])\n",
    "\n",
    "# Splitting arrays\n",
    "split_arr = np.split(np.array([1, 2, 3, 4, 5, 6]), 3)  # Splits into 3 equal arrays\n"
   ]
  },
  {
   "cell_type": "code",
   "execution_count": 39,
   "id": "09d294cb-8126-42c2-befc-217d58512797",
   "metadata": {},
   "outputs": [
    {
     "data": {
      "text/plain": [
       "array([1, 2])"
      ]
     },
     "execution_count": 39,
     "metadata": {},
     "output_type": "execute_result"
    }
   ],
   "source": [
    "arr1"
   ]
  },
  {
   "cell_type": "code",
   "execution_count": 40,
   "id": "b50f85cf-4047-4207-a467-01d794508903",
   "metadata": {},
   "outputs": [
    {
     "data": {
      "text/plain": [
       "array([3, 4])"
      ]
     },
     "execution_count": 40,
     "metadata": {},
     "output_type": "execute_result"
    }
   ],
   "source": [
    "arr2"
   ]
  },
  {
   "cell_type": "code",
   "execution_count": 41,
   "id": "e382e6ca-a633-4c61-8c94-73192069b838",
   "metadata": {},
   "outputs": [
    {
     "data": {
      "text/plain": [
       "array([1, 2, 3, 4])"
      ]
     },
     "execution_count": 41,
     "metadata": {},
     "output_type": "execute_result"
    }
   ],
   "source": [
    "concat_arr"
   ]
  },
  {
   "cell_type": "code",
   "execution_count": 42,
   "id": "41ddf4d2-0d2c-4225-a5a1-7511c41c0fd4",
   "metadata": {},
   "outputs": [
    {
     "data": {
      "text/plain": [
       "array([[1, 2],\n",
       "       [3, 4]])"
      ]
     },
     "execution_count": 42,
     "metadata": {},
     "output_type": "execute_result"
    }
   ],
   "source": [
    "vstack_arr"
   ]
  },
  {
   "cell_type": "code",
   "execution_count": 43,
   "id": "a6a6ef8b-8e7c-454f-8449-08be12cd850b",
   "metadata": {},
   "outputs": [
    {
     "data": {
      "text/plain": [
       "array([1, 2, 3, 4])"
      ]
     },
     "execution_count": 43,
     "metadata": {},
     "output_type": "execute_result"
    }
   ],
   "source": [
    "hstack_arr"
   ]
  },
  {
   "cell_type": "code",
   "execution_count": 44,
   "id": "1e7a5a47-b687-41b2-a3df-3b7f3db0421a",
   "metadata": {},
   "outputs": [
    {
     "data": {
      "text/plain": [
       "[array([1, 2]), array([3, 4]), array([5, 6])]"
      ]
     },
     "execution_count": 44,
     "metadata": {},
     "output_type": "execute_result"
    }
   ],
   "source": [
    "split_arr"
   ]
  },
  {
   "cell_type": "code",
   "execution_count": 45,
   "id": "23e19262-3384-4eda-93b1-857e425138de",
   "metadata": {},
   "outputs": [
    {
     "name": "stdout",
     "output_type": "stream",
     "text": [
      "3\n",
      "[1 2 3]\n",
      "[2 5]\n"
     ]
    }
   ],
   "source": [
    "# Array manipulation\n",
    "# Indexing and slicing in multi-dimensional arrays\n",
    "arr = np.array([[1, 2, 3], [4, 5, 6]])\n",
    "\n",
    "# Select specific element\n",
    "print(arr[0, 2])  # Element at row 0, column 2\n",
    "\n",
    "# Slice rows and columns\n",
    "print(arr[0, :])  # First row\n",
    "print(arr[:, 1])  # Second column\n",
    "\n"
   ]
  },
  {
   "cell_type": "code",
   "execution_count": 46,
   "id": "a660c288-2227-4a12-85cf-0e14fb724389",
   "metadata": {},
   "outputs": [
    {
     "name": "stdout",
     "output_type": "stream",
     "text": [
      "[3 4 5]\n"
     ]
    }
   ],
   "source": [
    "# Masking (logical indexing)\n",
    "arr = np.array([1, 2, 3, 4, 5])\n",
    "\n",
    "# Masking: select elements greater than 2\n",
    "mask = arr > 2\n",
    "print(arr[mask])  # Elements where the condition is True\n",
    "\n"
   ]
  },
  {
   "cell_type": "code",
   "execution_count": 47,
   "id": "b0df1092-beb1-4ef6-8af0-aadda6a8d413",
   "metadata": {},
   "outputs": [
    {
     "name": "stdout",
     "output_type": "stream",
     "text": [
      "[10 30 50]\n"
     ]
    }
   ],
   "source": [
    " # Fancy indexing\n",
    "arr = np.array([10, 20, 30, 40, 50])\n",
    "\n",
    "# Select specific elements using indices\n",
    "indices = [0, 2, 4]\n",
    "print(arr[indices])  # Elements at indices 0, 2, 4\n"
   ]
  },
  {
   "cell_type": "code",
   "execution_count": 49,
   "id": "2bb9863e-ca6f-4c08-8a12-ce77716aec27",
   "metadata": {},
   "outputs": [],
   "source": [
    "# mathematical Funation\n",
    "arr = np.array([1, 2, 3])\n",
    "\n",
    "# Add 5 to each element\n",
    "add_arr = np.add(arr, 5)\n",
    "\n",
    "# Multiply each element by 2\n",
    "mul_arr = np.multiply(arr, 2)\n"
   ]
  },
  {
   "cell_type": "code",
   "execution_count": 50,
   "id": "371e264a-61cf-44eb-be5d-e644d88ca115",
   "metadata": {},
   "outputs": [
    {
     "data": {
      "text/plain": [
       "array([1, 2, 3])"
      ]
     },
     "execution_count": 50,
     "metadata": {},
     "output_type": "execute_result"
    }
   ],
   "source": [
    "arr"
   ]
  },
  {
   "cell_type": "code",
   "execution_count": 51,
   "id": "98a9ada0-e9a5-4513-9737-304b732116d6",
   "metadata": {},
   "outputs": [
    {
     "data": {
      "text/plain": [
       "array([6, 7, 8])"
      ]
     },
     "execution_count": 51,
     "metadata": {},
     "output_type": "execute_result"
    }
   ],
   "source": [
    "add_arr"
   ]
  },
  {
   "cell_type": "code",
   "execution_count": 52,
   "id": "8776b5a0-d058-4c6e-9257-08c8dd852e87",
   "metadata": {},
   "outputs": [
    {
     "data": {
      "text/plain": [
       "array([2, 4, 6])"
      ]
     },
     "execution_count": 52,
     "metadata": {},
     "output_type": "execute_result"
    }
   ],
   "source": [
    "mul_arr"
   ]
  },
  {
   "cell_type": "code",
   "execution_count": 53,
   "id": "792514f6-2095-4996-945c-9feab361c785",
   "metadata": {},
   "outputs": [],
   "source": [
    "# Statistical function\n",
    "\n",
    "arr = np.array([1, 2, 3, 4, 5])\n",
    "\n",
    "# Mean\n",
    "mean_val = np.mean(arr)\n",
    "\n",
    "# Standard deviation\n",
    "std_val = np.std(arr)\n",
    "\n",
    "# Minimum and Maximum\n",
    "min_val = np.min(arr)\n",
    "max_val = np.max(arr)\n"
   ]
  },
  {
   "cell_type": "code",
   "execution_count": 54,
   "id": "a7fc5917-fb62-42b9-a433-bc94a3e2b1f3",
   "metadata": {},
   "outputs": [
    {
     "data": {
      "text/plain": [
       "array([1, 2, 3, 4, 5])"
      ]
     },
     "execution_count": 54,
     "metadata": {},
     "output_type": "execute_result"
    }
   ],
   "source": [
    "arr"
   ]
  },
  {
   "cell_type": "code",
   "execution_count": 56,
   "id": "c3f9f303-1995-453b-bfc9-8d90ea073d57",
   "metadata": {},
   "outputs": [
    {
     "data": {
      "text/plain": [
       "np.float64(3.0)"
      ]
     },
     "execution_count": 56,
     "metadata": {},
     "output_type": "execute_result"
    }
   ],
   "source": [
    "mean_val"
   ]
  },
  {
   "cell_type": "code",
   "execution_count": 57,
   "id": "fe27d910-6de7-4b64-a2d4-dc41c1eaad87",
   "metadata": {},
   "outputs": [
    {
     "data": {
      "text/plain": [
       "np.float64(1.4142135623730951)"
      ]
     },
     "execution_count": 57,
     "metadata": {},
     "output_type": "execute_result"
    }
   ],
   "source": [
    "std_val"
   ]
  },
  {
   "cell_type": "code",
   "execution_count": 58,
   "id": "02a50338-6286-4238-a3dd-d30955fdb13d",
   "metadata": {},
   "outputs": [
    {
     "data": {
      "text/plain": [
       "np.int64(1)"
      ]
     },
     "execution_count": 58,
     "metadata": {},
     "output_type": "execute_result"
    }
   ],
   "source": [
    "min_val"
   ]
  },
  {
   "cell_type": "code",
   "execution_count": 59,
   "id": "2b52373b-c85f-40f3-ae93-cc3090f19c96",
   "metadata": {},
   "outputs": [
    {
     "data": {
      "text/plain": [
       "np.int64(5)"
      ]
     },
     "execution_count": 59,
     "metadata": {},
     "output_type": "execute_result"
    }
   ],
   "source": [
    "max_val"
   ]
  },
  {
   "cell_type": "code",
   "execution_count": 60,
   "id": "8456f71a-b31e-44c8-a9f3-c8846e2d9ae4",
   "metadata": {},
   "outputs": [],
   "source": [
    "# Linear algebra function\n",
    "\n",
    "# Dot product of two vectors\n",
    "arr1 = np.array([1, 2])\n",
    "arr2 = np.array([3, 4])\n",
    "dot_product = np.dot(arr1, arr2)\n",
    "\n",
    "# Matrix inversion\n",
    "matrix = np.array([[1, 2], [3, 4]])\n",
    "inv_matrix = np.linalg.inv(matrix)\n"
   ]
  },
  {
   "cell_type": "code",
   "execution_count": 61,
   "id": "31e75563-bcee-48b4-9da3-b1affb458f34",
   "metadata": {},
   "outputs": [
    {
     "data": {
      "text/plain": [
       "array([1, 2])"
      ]
     },
     "execution_count": 61,
     "metadata": {},
     "output_type": "execute_result"
    }
   ],
   "source": [
    "arr1"
   ]
  },
  {
   "cell_type": "code",
   "execution_count": 63,
   "id": "9196eb17-664e-499d-9278-d748fc3c088d",
   "metadata": {},
   "outputs": [
    {
     "data": {
      "text/plain": [
       "array([3, 4])"
      ]
     },
     "execution_count": 63,
     "metadata": {},
     "output_type": "execute_result"
    }
   ],
   "source": [
    "arr2"
   ]
  },
  {
   "cell_type": "code",
   "execution_count": 64,
   "id": "fc03afad-223d-4ca6-9845-cc087783722e",
   "metadata": {},
   "outputs": [
    {
     "data": {
      "text/plain": [
       "array([[1, 2],\n",
       "       [3, 4]])"
      ]
     },
     "execution_count": 64,
     "metadata": {},
     "output_type": "execute_result"
    }
   ],
   "source": [
    "matrix"
   ]
  },
  {
   "cell_type": "code",
   "execution_count": 65,
   "id": "2ac14c5a-2a90-491d-a2fa-7561c568fd6a",
   "metadata": {},
   "outputs": [
    {
     "data": {
      "text/plain": [
       "array([[-2. ,  1. ],\n",
       "       [ 1.5, -0.5]])"
      ]
     },
     "execution_count": 65,
     "metadata": {},
     "output_type": "execute_result"
    }
   ],
   "source": [
    "inv_matrix"
   ]
  },
  {
   "cell_type": "code",
   "execution_count": 66,
   "id": "d6fac445-f07a-4225-b483-b1eb7f65ea43",
   "metadata": {},
   "outputs": [
    {
     "data": {
      "text/plain": [
       "np.int64(11)"
      ]
     },
     "execution_count": 66,
     "metadata": {},
     "output_type": "execute_result"
    }
   ],
   "source": [
    "dot_product"
   ]
  },
  {
   "cell_type": "code",
   "execution_count": 72,
   "id": "87871022-1d0a-4d21-a82f-83782ecd8101",
   "metadata": {},
   "outputs": [],
   "source": [
    "# Random number generation\n",
    "# Random float between 0 and 1\n",
    "rand_float = np.random.rand()\n",
    "\n",
    "# Random integer between 0 and 10\n",
    "rand_int = np.random.randint(0, 10)\n",
    "\n",
    "# Set seed for reproducibility\n",
    "np.random.seed(42)\n"
   ]
  },
  {
   "cell_type": "code",
   "execution_count": 68,
   "id": "2591a04d-0997-47f3-80aa-4565faa70ea9",
   "metadata": {},
   "outputs": [
    {
     "data": {
      "text/plain": [
       "0.678118574966513"
      ]
     },
     "execution_count": 68,
     "metadata": {},
     "output_type": "execute_result"
    }
   ],
   "source": [
    "rand_float"
   ]
  },
  {
   "cell_type": "code",
   "execution_count": 69,
   "id": "edf7ea2b-3814-4d66-a833-43e155c66278",
   "metadata": {},
   "outputs": [
    {
     "data": {
      "text/plain": [
       "9"
      ]
     },
     "execution_count": 69,
     "metadata": {},
     "output_type": "execute_result"
    }
   ],
   "source": [
    "rand_int"
   ]
  },
  {
   "cell_type": "code",
   "execution_count": 73,
   "id": "a5f0d20a-a1d2-44fb-9f73-710063ed25d5",
   "metadata": {},
   "outputs": [],
   "source": [
    "\n",
    "# Random sample from a list\n",
    "sample = np.random.choice([1, 2, 3, 4, 5], size=3)\n",
    "\n",
    "# Shuffle an array in place\n",
    "arr = np.array([1, 2, 3, 4, 5])\n",
    "np.random.shuffle(arr)\n",
    "\n",
    "# Generate random permutations\n",
    "perm = np.random.permutation([1, 2, 3, 4, 5])\n"
   ]
  },
  {
   "cell_type": "code",
   "execution_count": 74,
   "id": "78875aca-c048-43f0-a68e-a1501b55d121",
   "metadata": {},
   "outputs": [
    {
     "data": {
      "text/plain": [
       "array([4, 5, 3])"
      ]
     },
     "execution_count": 74,
     "metadata": {},
     "output_type": "execute_result"
    }
   ],
   "source": [
    "sample"
   ]
  },
  {
   "cell_type": "code",
   "execution_count": 75,
   "id": "e37b9313-3bd0-4f3c-9a4d-24f658fa8529",
   "metadata": {},
   "outputs": [
    {
     "data": {
      "text/plain": [
       "array([4, 2, 3, 1, 5])"
      ]
     },
     "execution_count": 75,
     "metadata": {},
     "output_type": "execute_result"
    }
   ],
   "source": [
    "arr"
   ]
  },
  {
   "cell_type": "code",
   "execution_count": 76,
   "id": "21e4eeb0-dbd5-4c94-b1b6-331f21c92194",
   "metadata": {},
   "outputs": [],
   "source": [
    "np.random.shuffle(arr)"
   ]
  },
  {
   "cell_type": "code",
   "execution_count": 77,
   "id": "2a9a17e2-8ccb-47d9-afd1-a0fa72f224ac",
   "metadata": {},
   "outputs": [
    {
     "data": {
      "text/plain": [
       "array([2, 1, 4, 5, 3])"
      ]
     },
     "execution_count": 77,
     "metadata": {},
     "output_type": "execute_result"
    }
   ],
   "source": [
    "perm"
   ]
  },
  {
   "cell_type": "code",
   "execution_count": 78,
   "id": "3ed3bd38-5749-46b8-abe6-d1d376c19c10",
   "metadata": {},
   "outputs": [],
   "source": [
    "# Broadcasting \n",
    "arr1 = np.array([1, 2, 3])\n",
    "arr2 = np.array([[1], [2], [3]])\n",
    "\n",
    "# Broadcasting occurs when adding arr1 (1D) to arr2 (2D)\n",
    "result = arr1 + arr2  # arr1 is broadcast to match the shape of arr2\n"
   ]
  },
  {
   "cell_type": "code",
   "execution_count": 79,
   "id": "5d7bbfd5-66f1-4472-9e37-578eadeb1053",
   "metadata": {},
   "outputs": [
    {
     "data": {
      "text/plain": [
       "array([[1],\n",
       "       [2],\n",
       "       [3]])"
      ]
     },
     "execution_count": 79,
     "metadata": {},
     "output_type": "execute_result"
    }
   ],
   "source": [
    "arr2"
   ]
  },
  {
   "cell_type": "code",
   "execution_count": 80,
   "id": "e870148a-33b1-426c-b2be-f2287a443bb6",
   "metadata": {},
   "outputs": [
    {
     "data": {
      "text/plain": [
       "array([1, 2, 3])"
      ]
     },
     "execution_count": 80,
     "metadata": {},
     "output_type": "execute_result"
    }
   ],
   "source": [
    "arr1"
   ]
  },
  {
   "cell_type": "code",
   "execution_count": 81,
   "id": "d4c44c96-e710-4176-9761-29216fd565c3",
   "metadata": {},
   "outputs": [
    {
     "data": {
      "text/plain": [
       "array([[2, 3, 4],\n",
       "       [3, 4, 5],\n",
       "       [4, 5, 6]])"
      ]
     },
     "execution_count": 81,
     "metadata": {},
     "output_type": "execute_result"
    }
   ],
   "source": [
    "result"
   ]
  },
  {
   "cell_type": "code",
   "execution_count": null,
   "id": "356dbaae-0ee8-4c2b-9860-9dfd31e54c5f",
   "metadata": {},
   "outputs": [],
   "source": []
  }
 ],
 "metadata": {
  "kernelspec": {
   "display_name": "Python 3 (ipykernel)",
   "language": "python",
   "name": "python3"
  },
  "language_info": {
   "codemirror_mode": {
    "name": "ipython",
    "version": 3
   },
   "file_extension": ".py",
   "mimetype": "text/x-python",
   "name": "python",
   "nbconvert_exporter": "python",
   "pygments_lexer": "ipython3",
   "version": "3.13.1"
  }
 },
 "nbformat": 4,
 "nbformat_minor": 5
}
