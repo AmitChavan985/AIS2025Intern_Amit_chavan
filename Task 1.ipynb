{
 "cells": [
  {
   "cell_type": "code",
   "execution_count": null,
   "id": "973a0191-a194-4290-9d58-d721a41cbdb9",
   "metadata": {},
   "outputs": [],
   "source": [
    "# Numbers in python\n",
    "# Integers (int): Whole numbers (e.g., 5, -3, 100).\n",
    "\n",
    " # Floats (float): Decimal numbers (e.g., 3.14, -0.01, 2.0).\n",
    "\n",
    " # Complex numbers (complex): Numbers with a real and imaginary part (e.g., 3 + 4j).\n",
    " #  Basic arithmetic operations:\n"
   ]
  },
  {
   "cell_type": "code",
   "execution_count": 2,
   "id": "fd462911-408f-4d8a-b906-335a24bedbeb",
   "metadata": {},
   "outputs": [
    {
     "name": "stdout",
     "output_type": "stream",
     "text": [
      "85\n",
      "25\n",
      "1650\n",
      "1.8333333333333333\n"
     ]
    }
   ],
   "source": [
    "x, y = 55, 30\n",
    "print(x + y)  # Addition\n",
    "print(x - y)  # Subtraction\n",
    "print(x * y)  # Multiplication\n",
    "print(x / y)  # Division "
   ]
  },
  {
   "cell_type": "code",
   "execution_count": null,
   "id": "478e85a7-c801-4f5e-a005-97bc455ecb93",
   "metadata": {},
   "outputs": [],
   "source": [
    " # 2 Operators in Python\n",
    "\n",
    "# Arithmetic operators: +, -, *, /, //, %, **\n",
    "# Comparison operators: ==, !=, <, >, <=, >=\n",
    "# Logical operators: and, or, not\n",
    "# Assignment operators: =, +=, -=, *=, /=, //=, %=, **="
   ]
  },
  {
   "cell_type": "code",
   "execution_count": 5,
   "id": "45120a6e-4532-4c1d-8db5-ecfccc75cc85",
   "metadata": {},
   "outputs": [
    {
     "name": "stdout",
     "output_type": "stream",
     "text": [
      "False\n",
      "True\n",
      "True\n"
     ]
    }
   ],
   "source": [
    "a, b = 17, 30\n",
    "print(a == b)  \n",
    "print(a != b)  \n",
    "print(a < b and a > 2)  "
   ]
  },
  {
   "cell_type": "code",
   "execution_count": 15,
   "id": "ade8d972-16e0-460d-9905-0931b7a0fd5f",
   "metadata": {},
   "outputs": [
    {
     "name": "stdout",
     "output_type": "stream",
     "text": [
      "1\n",
      "6\n",
      "2\n",
      "1\n"
     ]
    }
   ],
   "source": [
    "# 3 list in python\n",
    "\n",
    "lst = [1, 2, 3, 4, 5]\n",
    "\n",
    "print(lst[0])  # Accessing elements\n",
    "\n",
    "lst[1] = 10  # Modifying elements\n",
    "\n",
    "lst.append(6)  # Adding elements\n",
    "\n",
    "lst.insert(2, 15)  # Inserting elements\n",
    "\n",
    "lst.remove(3)  # Removing elements\n",
    "\n",
    "print(lst.pop())  # Removes last element\n",
    "\n",
    "lst.clear()  # Clears list\n",
    "\n",
    "lst = [3, 1, 4, 1, 5]\n",
    "lst.sort()  # Sorting\n",
    "\n",
    "lst.reverse()  # Reversing\n",
    "\n",
    "print(lst.count(1))  # Counting occurrences\n",
    "\n",
    "print(lst.index(4))  # Finding index\n",
    "\n"
   ]
  },
  {
   "cell_type": "code",
   "execution_count": 14,
   "id": "fdfff25e-ad68-418f-86bf-5113b014e97c",
   "metadata": {},
   "outputs": [
    {
     "name": "stdout",
     "output_type": "stream",
     "text": [
      "2\n",
      "(2, 3, 4)\n",
      "(1, 2, 3, 4, 5, 6, 7)\n",
      "(1, 2, 3, 4, 5, 1, 2, 3, 4, 5)\n",
      "1\n",
      "2\n"
     ]
    }
   ],
   "source": [
    "# 4 tuple in python\n",
    "\n",
    "tup = (1, 2, 3, 4, 5)\n",
    "print(tup[1])  # Accessing elements\n",
    "print(tup[1:4])  # Slicing\n",
    "tup2 = (6, 7)\n",
    "print(tup + tup2)  # Concatenation\n",
    "print(tup * 2)  # Repetition\n",
    "print(tup.count(2))  # Count occurrences\n",
    "print(tup.index(3))  # Find index"
   ]
  },
  {
   "cell_type": "code",
   "execution_count": 16,
   "id": "90203389-196e-4dab-810f-f1f72b8956a2",
   "metadata": {},
   "outputs": [
    {
     "name": "stdout",
     "output_type": "stream",
     "text": [
      "{1, 3, 4, 5}\n",
      "{3, 4}\n",
      "{1}\n"
     ]
    }
   ],
   "source": [
    "# 5 sets in python \n",
    "s = {1, 2, 3}\n",
    "s.add(4)  # Adding elements\n",
    "s.remove(2)  # Removing elements\n",
    "s2 = {3, 4, 5}\n",
    "print(s.union(s2))  # Union\n",
    "print(s.intersection(s2))  # Intersection\n",
    "print(s.difference(s2))  # Difference"
   ]
  },
  {
   "cell_type": "code",
   "execution_count": 17,
   "id": "143ca057-7934-4083-83e5-0bb40144c025",
   "metadata": {},
   "outputs": [
    {
     "name": "stdout",
     "output_type": "stream",
     "text": [
      "vikram\n",
      "25\n",
      "dict_keys(['name', 'age'])\n",
      "dict_values(['vikram', 25])\n",
      "dict_items([('name', 'vikram'), ('city', 'karad')])\n"
     ]
    }
   ],
   "source": [
    "# 6 Dictonary in python\n",
    "d = {\"name\": \"vikram\", \"age\": 25}\n",
    "    \n",
    "print(d[\"name\"])  # Access value\n",
    "     \n",
    "print(d.get(\"age\"))  # Safe access\n",
    "     \n",
    "print(d.keys())  # Get keys\n",
    "\n",
    "print(d.values())  # Get values\n",
    "     \n",
    "d.update({\"city\": \"karad\"})  # Adding key-value pair\n",
    "     \n",
    "d.pop(\"age\")  # Removing key\n",
    "     \n",
    "print(d.items())  # Get all key-value pairs\n",
    "     "
   ]
  },
  {
   "cell_type": "code",
   "execution_count": 22,
   "id": "b74255d9-f5b4-4c45-8135-f9db86316755",
   "metadata": {},
   "outputs": [
    {
     "ename": "SyntaxError",
     "evalue": "unmatched ')' (3100761635.py, line 2)",
     "output_type": "error",
     "traceback": [
      "\u001b[1;36m  Cell \u001b[1;32mIn[22], line 2\u001b[1;36m\u001b[0m\n\u001b[1;33m    1) # IndentationError: Occurs when incorrect indentation is used.\\\u001b[0m\n\u001b[1;37m     ^\u001b[0m\n\u001b[1;31mSyntaxError\u001b[0m\u001b[1;31m:\u001b[0m unmatched ')'\n"
     ]
    }
   ],
   "source": [
    "# 7 common errors in python\n",
    "1) # IndentationError: Occurs when incorrect indentation is used.\\\n",
    "if True:\n",
    "    \n",
    "      print(\"Hello\")  # IndentationError"
   ]
  },
  {
   "cell_type": "code",
   "execution_count": 23,
   "id": "ecd3f185-a7bd-4c3c-a7c1-1e19b78c2b70",
   "metadata": {},
   "outputs": [
    {
     "ename": "NameError",
     "evalue": "name 'A' is not defined",
     "output_type": "error",
     "traceback": [
      "\u001b[1;31m---------------------------------------------------------------------------\u001b[0m",
      "\u001b[1;31mNameError\u001b[0m                                 Traceback (most recent call last)",
      "Cell \u001b[1;32mIn[23], line 2\u001b[0m\n\u001b[0;32m      1\u001b[0m \u001b[38;5;66;03m# 2) NameError: Using an undefined variable.\u001b[39;00m\n\u001b[1;32m----> 2\u001b[0m \u001b[38;5;28mprint\u001b[39m(\u001b[43mA\u001b[49m)  \u001b[38;5;66;03m# NameError: name A is not defined\u001b[39;00m\n",
      "\u001b[1;31mNameError\u001b[0m: name 'A' is not defined"
     ]
    }
   ],
   "source": [
    " # 2) NameError: Using an undefined variable.\n",
    " print(A)  # NameError: name A is not defined\n"
   ]
  },
  {
   "cell_type": "code",
   "execution_count": 24,
   "id": "7358618d-4a38-452c-bb32-262d206624f7",
   "metadata": {},
   "outputs": [
    {
     "ename": "TypeError",
     "evalue": "can only concatenate str (not \"int\") to str",
     "output_type": "error",
     "traceback": [
      "\u001b[1;31m---------------------------------------------------------------------------\u001b[0m",
      "\u001b[1;31mTypeError\u001b[0m                                 Traceback (most recent call last)",
      "Cell \u001b[1;32mIn[24], line 2\u001b[0m\n\u001b[0;32m      1\u001b[0m \u001b[38;5;66;03m# 3 TypeError: Occurs when performing an operation on incompatible types.\u001b[39;00m\n\u001b[1;32m----> 2\u001b[0m \u001b[38;5;28mprint\u001b[39m(\u001b[38;5;124;43m\"\u001b[39;49m\u001b[38;5;124;43mHello\u001b[39;49m\u001b[38;5;124;43m\"\u001b[39;49m\u001b[43m \u001b[49m\u001b[38;5;241;43m+\u001b[39;49m\u001b[43m \u001b[49m\u001b[38;5;241;43m5\u001b[39;49m)  \u001b[38;5;66;03m# TypeError: can only concatenate str to str\u001b[39;00m\n",
      "\u001b[1;31mTypeError\u001b[0m: can only concatenate str (not \"int\") to str"
     ]
    }
   ],
   "source": [
    "# 3 TypeError: Occurs when performing an operation on incompatible types.\n",
    "print(\"Hello\" + 5)  # TypeError: can only concatenate str to str"
   ]
  },
  {
   "cell_type": "code",
   "execution_count": 25,
   "id": "7c977084-2893-4735-be6a-82c1a64d1cdd",
   "metadata": {
    "collapsed": true,
    "jupyter": {
     "outputs_hidden": true
    }
   },
   "outputs": [
    {
     "ename": "IndexError",
     "evalue": "list index out of range",
     "output_type": "error",
     "traceback": [
      "\u001b[1;31m---------------------------------------------------------------------------\u001b[0m",
      "\u001b[1;31mIndexError\u001b[0m                                Traceback (most recent call last)",
      "Cell \u001b[1;32mIn[25], line 3\u001b[0m\n\u001b[0;32m      1\u001b[0m \u001b[38;5;66;03m# 4 IndexError: Accessing an invalid index in a list.\u001b[39;00m\n\u001b[0;32m      2\u001b[0m lst \u001b[38;5;241m=\u001b[39m [\u001b[38;5;241m1\u001b[39m, \u001b[38;5;241m2\u001b[39m, \u001b[38;5;241m3\u001b[39m]\n\u001b[1;32m----> 3\u001b[0m \u001b[38;5;28mprint\u001b[39m(\u001b[43mlst\u001b[49m\u001b[43m[\u001b[49m\u001b[38;5;241;43m5\u001b[39;49m\u001b[43m]\u001b[49m)  \u001b[38;5;66;03m# IndexError: list index out of range\u001b[39;00m\n",
      "\u001b[1;31mIndexError\u001b[0m: list index out of range"
     ]
    }
   ],
   "source": [
    "# 4 IndexError: Accessing an invalid index in a list.\n",
    "lst = [1, 2, 3]\n",
    "print(lst[5])  # IndexError: list index out of range"
   ]
  },
  {
   "cell_type": "code",
   "execution_count": 27,
   "id": "2d47c669-1aa4-4d15-a8aa-b69d07e432b0",
   "metadata": {},
   "outputs": [
    {
     "ename": "KeyError",
     "evalue": "'age'",
     "output_type": "error",
     "traceback": [
      "\u001b[1;31m---------------------------------------------------------------------------\u001b[0m",
      "\u001b[1;31mKeyError\u001b[0m                                  Traceback (most recent call last)",
      "Cell \u001b[1;32mIn[27], line 3\u001b[0m\n\u001b[0;32m      1\u001b[0m \u001b[38;5;66;03m# KeyError: Accessing a non-existent dictionary key\u001b[39;00m\n\u001b[0;32m      2\u001b[0m Y  \u001b[38;5;241m=\u001b[39m {\u001b[38;5;124m\"\u001b[39m\u001b[38;5;124mname\u001b[39m\u001b[38;5;124m\"\u001b[39m: \u001b[38;5;124m\"\u001b[39m\u001b[38;5;124msuraj\u001b[39m\u001b[38;5;124m\"\u001b[39m}\n\u001b[1;32m----> 3\u001b[0m \u001b[38;5;28mprint\u001b[39m(\u001b[43mY\u001b[49m\u001b[43m[\u001b[49m\u001b[38;5;124;43m\"\u001b[39;49m\u001b[38;5;124;43mage\u001b[39;49m\u001b[38;5;124;43m\"\u001b[39;49m\u001b[43m]\u001b[49m)  \u001b[38;5;66;03m# KeyError: 'age'\u001b[39;00m\n",
      "\u001b[1;31mKeyError\u001b[0m: 'age'"
     ]
    }
   ],
   "source": [
    "# KeyError: Accessing a non-existent dictionary key\n",
    "Y  = {\"name\": \"suraj\"}\n",
    "print(Y[\"age\"])  # KeyError: 'age'"
   ]
  },
  {
   "cell_type": "code",
   "execution_count": null,
   "id": "eaa4fe96-a7a0-4ded-a41a-b43e93ddab6a",
   "metadata": {},
   "outputs": [],
   "source": []
  }
 ],
 "metadata": {
  "kernelspec": {
   "display_name": "Python 3 (ipykernel)",
   "language": "python",
   "name": "python3"
  },
  "language_info": {
   "codemirror_mode": {
    "name": "ipython",
    "version": 3
   },
   "file_extension": ".py",
   "mimetype": "text/x-python",
   "name": "python",
   "nbconvert_exporter": "python",
   "pygments_lexer": "ipython3",
   "version": "3.13.1"
  }
 },
 "nbformat": 4,
 "nbformat_minor": 5
}
