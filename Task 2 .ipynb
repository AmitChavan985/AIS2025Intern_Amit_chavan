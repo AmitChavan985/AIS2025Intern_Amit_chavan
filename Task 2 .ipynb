{
 "cells": [
  {
   "cell_type": "code",
   "execution_count": 2,
   "id": "b8fd0c35-b390-4f04-b17a-ff22991f2f92",
   "metadata": {},
   "outputs": [
    {
     "name": "stdout",
     "output_type": "stream",
     "text": [
      "Grade: C\n"
     ]
    }
   ],
   "source": [
    "# Grade code\n",
    "p = 50\n",
    "\n",
    "if p > 75:\n",
    "    print(\"Grade: O\")\n",
    "elif 60 < p <= 75:\n",
    "    print(\"Grade: A\")\n",
    "elif 50 < p <= 60:\n",
    "    print(\"Grade: B\")\n",
    "elif 35 < p <= 50:\n",
    "    print(\"Grade: C\")\n",
    "else:\n",
    "    print(\"Fail\")\n",
    "    \n"
   ]
  },
  {
   "cell_type": "code",
   "execution_count": 3,
   "id": "f253beba-2d68-4c77-9793-1bb2c0c48a75",
   "metadata": {},
   "outputs": [
    {
     "name": "stdout",
     "output_type": "stream",
     "text": [
      "Not divisible by 2 or 3\n"
     ]
    }
   ],
   "source": [
    "\n",
    "\n",
    "n = 7\n",
    "\n",
    "if n % 2 == 0 and n % 3 == 0:\n",
    "    print(\"Divisible by 2 and 3\")\n",
    "elif n % 2 == 0:\n",
    "    print(\"Divisible by 2, not 3\")\n",
    "elif n % 3 == 0:\n",
    "    print(\"Divisible by 3, not 2\")\n",
    "else:\n",
    "    print(\"Not divisible by 2 or 3\")\n"
   ]
  },
  {
   "cell_type": "code",
   "execution_count": 4,
   "id": "49197203-7fc4-4635-94ab-754551f15d11",
   "metadata": {},
   "outputs": [
    {
     "name": "stdout",
     "output_type": "stream",
     "text": [
      "Odd number\n"
     ]
    }
   ],
   "source": [
    "# 5 examples of 'if'\n",
    "#1\n",
    "# number is even or odd\n",
    "\n",
    "num = 7\n",
    "if num % 2 == 0:\n",
    "    print(\"Even number\")\n",
    "else:\n",
    "    print(\"Odd number\")\n"
   ]
  },
  {
   "cell_type": "code",
   "execution_count": 5,
   "id": "008926ce-ccdb-47cc-ac79-8dca65a25abf",
   "metadata": {},
   "outputs": [
    {
     "name": "stdout",
     "output_type": "stream",
     "text": [
      "The number is positive\n"
     ]
    }
   ],
   "source": [
    "#2\n",
    "# if a number is positive)\n",
    "num = 10\n",
    "if num > 0:\n",
    "    print(\"The number is positive\")\n"
   ]
  },
  {
   "cell_type": "code",
   "execution_count": 6,
   "id": "9d0821cb-efb5-479a-87e1-0a910d4cc316",
   "metadata": {},
   "outputs": [
    {
     "name": "stdout",
     "output_type": "stream",
     "text": [
      "The number is negative \n"
     ]
    }
   ],
   "source": [
    "#3 if a number is negative\n",
    "num = -55\n",
    "if num < 0:\n",
    "    print(\"The number is negative \")"
   ]
  },
  {
   "cell_type": "code",
   "execution_count": 9,
   "id": "9740dd08-56de-487b-a39f-a72042ac6e84",
   "metadata": {},
   "outputs": [
    {
     "name": "stdout",
     "output_type": "stream",
     "text": [
      "Pass\n"
     ]
    }
   ],
   "source": [
    "#3\n",
    "# passed or failed\n",
    "marks = 58\n",
    "if marks >= 40:\n",
    "    print(\"Pass\")\n",
    "else:\n",
    "    print(\"Fail\")\n"
   ]
  },
  {
   "cell_type": "code",
   "execution_count": 10,
   "id": "45f3adb7-43c7-4c03-8ce6-77d932702c1f",
   "metadata": {},
   "outputs": [
    {
     "name": "stdout",
     "output_type": "stream",
     "text": [
      "Fail\n"
     ]
    }
   ],
   "source": [
    "#4 \n",
    "# passed or failed\n",
    "marks = 35\n",
    "if marks >= 40:\n",
    "    print(\"Pass\")\n",
    "else:\n",
    "    print(\"Fail\")\n"
   ]
  },
  {
   "cell_type": "code",
   "execution_count": 13,
   "id": "06a72bb0-699b-4c41-aee1-9fee674eb61c",
   "metadata": {},
   "outputs": [
    {
     "name": "stdout",
     "output_type": "stream",
     "text": [
      "The number is greater than 100\n"
     ]
    }
   ],
   "source": [
    "#5\n",
    "# number is greater than 100\n",
    "num = 220220\n",
    "if num > 100:\n",
    "    print(\"The number is greater than 100\")\n"
   ]
  },
  {
   "cell_type": "code",
   "execution_count": null,
   "id": "e4724daa-5f6f-43f9-9a91-fb2170eb2a0b",
   "metadata": {},
   "outputs": [],
   "source": [
    "# Examples of if-else\n"
   ]
  },
  {
   "cell_type": "code",
   "execution_count": 14,
   "id": "2e62c90e-4c24-4b38-a9e1-dbc5e49c44b5",
   "metadata": {},
   "outputs": [
    {
     "name": "stdout",
     "output_type": "stream",
     "text": [
      "Odd number\n"
     ]
    }
   ],
   "source": [
    "# 1 number is even or odd\n",
    "num = 70\n",
    "if num % 3 == 0:\n",
    "    print(\"Even number\")\n",
    "else:\n",
    "    print(\"Odd number\")\n"
   ]
  },
  {
   "cell_type": "code",
   "execution_count": 16,
   "id": "a1db18d3-19ff-4143-8047-8fbb2153cd7a",
   "metadata": {},
   "outputs": [
    {
     "name": "stdout",
     "output_type": "stream",
     "text": [
      "Fail\n"
     ]
    }
   ],
   "source": [
    "#2\n",
    "# pass or fail\n",
    "marks = 30\n",
    "if marks >= 40:\n",
    "    print(\"Pass\")\n",
    "else:\n",
    "    print(\"Fail\")\n"
   ]
  },
  {
   "cell_type": "code",
   "execution_count": 17,
   "id": "f9ea7664-6b01-408d-85ac-0a6ce71d9ae7",
   "metadata": {},
   "outputs": [
    {
     "name": "stdout",
     "output_type": "stream",
     "text": [
      "Valid name\n"
     ]
    }
   ],
   "source": [
    "#3\n",
    "# if an name contains 'k'\n",
    "email = \"vikram vinod jadhav\"\n",
    "if \"k\" in email:\n",
    "    print(\"Valid name\")\n",
    "else:\n",
    "    print(\"Invalid name\")\n"
   ]
  },
  {
   "cell_type": "code",
   "execution_count": 18,
   "id": "62c949a9-01b7-41bf-a1e4-60f30fa3ba8f",
   "metadata": {},
   "outputs": [
    {
     "name": "stdout",
     "output_type": "stream",
     "text": [
      "You are an adult\n"
     ]
    }
   ],
   "source": [
    "#4\n",
    "# adult or not \n",
    "age = 20\n",
    "if age >= 18:\n",
    "    print(\"You are an adult\")\n",
    "else:\n",
    "    print(\"You are a minor\")\n",
    "\n"
   ]
  },
  {
   "cell_type": "code",
   "execution_count": null,
   "id": "00bb5474-84e6-4134-960e-a4169071c4ee",
   "metadata": {},
   "outputs": [],
   "source": [
    "#if-elif-else\n"
   ]
  },
  {
   "cell_type": "code",
   "execution_count": 20,
   "id": "18db8d02-2757-4f07-8b73-38eaacf75f7e",
   "metadata": {},
   "outputs": [
    {
     "name": "stdout",
     "output_type": "stream",
     "text": [
      "Senior Citizen\n"
     ]
    }
   ],
   "source": [
    "#1\n",
    "# age category\n",
    "age = 90\n",
    "if age < 13:\n",
    "    print(\"Child\")\n",
    "elif 13 <= age < 18:\n",
    "    print(\"Teenager\")\n",
    "elif 20 <= age < 65:\n",
    "    print(\"Adult\")\n",
    "else:\n",
    "    print(\"Senior Citizen\")\n"
   ]
  },
  {
   "cell_type": "code",
   "execution_count": 21,
   "id": "5d642ace-3920-4ebd-ae2e-d1ddaef6b73d",
   "metadata": {},
   "outputs": [
    {
     "name": "stdout",
     "output_type": "stream",
     "text": [
      "Grade: A\n"
     ]
    }
   ],
   "source": [
    "#2 Grade base on percentage\n",
    "marks = 78\n",
    "if marks >= 90:\n",
    "    print(\"Grade: A+\")\n",
    "elif marks >= 75:\n",
    "    print(\"Grade: A\")\n",
    "elif marks >= 60:\n",
    "    print(\"Grade: B\")\n",
    "elif marks >= 50:\n",
    "    print(\"Grade: C\")\n",
    "elif marks >= 35:\n",
    "    print(\"Grade: D\")\n",
    "else:\n",
    "    print(\"Fail\")\n"
   ]
  },
  {
   "cell_type": "code",
   "execution_count": 23,
   "id": "1ba92501-2d4f-411a-aaa2-a46771ef12c4",
   "metadata": {},
   "outputs": [],
   "source": [
    "#For Loop\n",
    "#Swap First and Last Element of a List\n",
    "def swap_first_last(lst):\n",
    "    if len(lst) >= 2:  # Check if list has at least two elements\n",
    "        lst[0], lst[-1] = lst[-1], lst[0]  # Swap first and last element\n",
    "    return lst\n",
    "\n"
   ]
  },
  {
   "cell_type": "code",
   "execution_count": 24,
   "id": "0c085b66-e2c5-43ec-a1c1-a4d54c9037e7",
   "metadata": {},
   "outputs": [
    {
     "name": "stdout",
     "output_type": "stream",
     "text": [
      "[50, 20, 30, 40, 10]\n"
     ]
    }
   ],
   "source": [
    "# Example\n",
    "numbers = [10, 20, 30, 40, 50]\n",
    "print(swap_first_last(numbers))  # Output: [50, 20, 30, 40, 10]"
   ]
  },
  {
   "cell_type": "code",
   "execution_count": 25,
   "id": "4f5da444-a918-4c5b-827d-65183889ef2a",
   "metadata": {},
   "outputs": [],
   "source": [
    "# Count Length of a String\n",
    "def string_length(s):\n",
    "    count = 0\n",
    "    for char in s:  # Loop through each character\n",
    "        count += 1\n",
    "    return count\n"
   ]
  },
  {
   "cell_type": "code",
   "execution_count": 27,
   "id": "54441c48-726b-412f-9346-d85dd8c56f52",
   "metadata": {},
   "outputs": [
    {
     "name": "stdout",
     "output_type": "stream",
     "text": [
      "12\n"
     ]
    }
   ],
   "source": [
    "# Example\n",
    "text = \"suraj, pawar\"\n",
    "print(string_length(text))  # Output: 13\n"
   ]
  },
  {
   "cell_type": "code",
   "execution_count": 28,
   "id": "ea20fabd-15cb-49ea-b07e-a8dc6fe7feca",
   "metadata": {},
   "outputs": [],
   "source": [
    "#Sum of Only Non-Negative Integers\n",
    "def sum_non_negative(lst):\n",
    "    total = 0\n",
    "    for num in lst:\n",
    "        if num >= 0:  # Check if number is non-negative\n",
    "            total += num\n",
    "    return total"
   ]
  },
  {
   "cell_type": "code",
   "execution_count": 30,
   "id": "758b0773-7db1-40da-938d-36abffcecd47",
   "metadata": {},
   "outputs": [
    {
     "name": "stdout",
     "output_type": "stream",
     "text": [
      "127\n"
     ]
    }
   ],
   "source": [
    "numbers = [100, 17, -5, -20, 10]\n",
    "print(sum_non_negative(numbers))"
   ]
  },
  {
   "cell_type": "code",
   "execution_count": 31,
   "id": "3e59867a-f07e-4c5b-bbe7-61273b78604d",
   "metadata": {},
   "outputs": [],
   "source": [
    "#  Factorial Using Loop\n",
    "def factorial(n):\n",
    "    if n < 0:\n",
    "        return \"Factorial is not defined for negative numbers\"\n",
    "    \n",
    "    result = 1\n",
    "    for i in range(1, n + 1):\n",
    "        result *= i  # Multiply each number from 1 to n\n",
    "    return result"
   ]
  },
  {
   "cell_type": "code",
   "execution_count": 35,
   "id": "cbaacda8-6a32-48d7-8bc6-803235027791",
   "metadata": {},
   "outputs": [
    {
     "name": "stdout",
     "output_type": "stream",
     "text": [
      "1\n",
      "24\n"
     ]
    }
   ],
   "source": [
    "print(factorial(1))  \n",
    "print(factorial(4))  "
   ]
  },
  {
   "cell_type": "code",
   "execution_count": null,
   "id": "bd060934-d624-4360-acde-01ae586f9e03",
   "metadata": {},
   "outputs": [],
   "source": [
    "# while loop\n",
    "# Odd-Even Using While Loop"
   ]
  },
  {
   "cell_type": "code",
   "execution_count": 37,
   "id": "f45f37cb-bf48-48f2-b38d-085aaebb8c92",
   "metadata": {},
   "outputs": [
    {
     "name": "stdout",
     "output_type": "stream",
     "text": [
      "1 is Odd\n",
      "2 is Even\n",
      "3 is Odd\n",
      "4 is Even\n",
      "5 is Odd\n",
      "6 is Even\n",
      "7 is Odd\n",
      "8 is Even\n",
      "9 is Odd\n",
      "10 is Even\n",
      "11 is Odd\n",
      "12 is Even\n",
      "13 is Odd\n",
      "14 is Even\n",
      "15 is Odd\n"
     ]
    }
   ],
   "source": [
    "num = 1\n",
    "while num <= 15:\n",
    "    if num % 2 == 0:\n",
    "        print(f\"{num} is Even\")\n",
    "    else:\n",
    "        print(f\"{num} is Odd\")\n",
    "    num += 1\n"
   ]
  },
  {
   "cell_type": "code",
   "execution_count": null,
   "id": "8684be7b-5497-43ef-a0f6-7f1dbacbefb9",
   "metadata": {},
   "outputs": [],
   "source": [
    "#Print Star Pattern Using While Loop\n"
   ]
  },
  {
   "cell_type": "code",
   "execution_count": 38,
   "id": "4cf9cce1-e442-4bac-b0ba-fb71707a5f69",
   "metadata": {},
   "outputs": [
    {
     "name": "stdout",
     "output_type": "stream",
     "text": [
      "* \n",
      "* * \n",
      "* * * \n",
      "* * * * \n",
      "* * * * * \n"
     ]
    }
   ],
   "source": [
    "i = 1\n",
    "while i <= 5:\n",
    "    print(\"* \" * i)  \n",
    "    i += 1\n"
   ]
  },
  {
   "cell_type": "code",
   "execution_count": null,
   "id": "f999597d-c7dd-4fb9-98cd-4eb553c57b07",
   "metadata": {},
   "outputs": [],
   "source": [
    "# Create a List of Numbers from 1 to 20 Using While Loop"
   ]
  },
  {
   "cell_type": "code",
   "execution_count": 39,
   "id": "09458b1a-3474-4f37-9f0e-8d00edcb570d",
   "metadata": {},
   "outputs": [
    {
     "name": "stdout",
     "output_type": "stream",
     "text": [
      "[1, 2, 3, 4, 5, 6, 7, 8, 9, 10, 11, 12, 13, 14, 15, 16, 17, 18, 19, 20]\n"
     ]
    }
   ],
   "source": [
    "numbers = []\n",
    "i = 1\n",
    "while i <= 20:\n",
    "    numbers.append(i)\n",
    "    i += 1\n",
    "\n",
    "print(numbers)  # Output: [1, 2, 3, ..., 20]\n"
   ]
  },
  {
   "cell_type": "code",
   "execution_count": null,
   "id": "3788a2f6-30a2-4a68-9535-563330c8e39c",
   "metadata": {},
   "outputs": [],
   "source": [
    " #Create a List of Numbers from 20 to 1 (Reverse Order)"
   ]
  },
  {
   "cell_type": "code",
   "execution_count": 40,
   "id": "e84df3c2-7ce8-4808-ba99-a692ef8db97a",
   "metadata": {},
   "outputs": [
    {
     "name": "stdout",
     "output_type": "stream",
     "text": [
      "[20, 19, 18, 17, 16, 15, 14, 13, 12, 11, 10, 9, 8, 7, 6, 5, 4, 3, 2, 1]\n"
     ]
    }
   ],
   "source": [
    "numbers = []\n",
    "i = 20\n",
    "while i >= 1:\n",
    "    numbers.append(i)\n",
    "    i -= 1\n",
    "\n",
    "print(numbers)  # Output: [20, 19, ..., 1]\n"
   ]
  },
  {
   "cell_type": "code",
   "execution_count": null,
   "id": "b39ef456-dd34-492f-b169-215f845cea77",
   "metadata": {},
   "outputs": [],
   "source": [
    "# break Example"
   ]
  },
  {
   "cell_type": "code",
   "execution_count": 41,
   "id": "00d9e692-7740-4c0f-abab-c40b78da5407",
   "metadata": {},
   "outputs": [
    {
     "name": "stdout",
     "output_type": "stream",
     "text": [
      "1\n",
      "2\n",
      "3\n",
      "4\n",
      "Stopping at 5\n"
     ]
    }
   ],
   "source": [
    "i = 1\n",
    "while i <= 10:\n",
    "    if i == 5:\n",
    "        print(\"Stopping at 5\")\n",
    "        break  # Exit loop when i is 5\n",
    "    print(i)\n",
    "    i += 1\n"
   ]
  },
  {
   "cell_type": "code",
   "execution_count": null,
   "id": "913bbda2-a07a-4fa8-8560-46ab5425bff6",
   "metadata": {},
   "outputs": [],
   "source": []
  }
 ],
 "metadata": {
  "kernelspec": {
   "display_name": "Python 3 (ipykernel)",
   "language": "python",
   "name": "python3"
  },
  "language_info": {
   "codemirror_mode": {
    "name": "ipython",
    "version": 3
   },
   "file_extension": ".py",
   "mimetype": "text/x-python",
   "name": "python",
   "nbconvert_exporter": "python",
   "pygments_lexer": "ipython3",
   "version": "3.13.1"
  }
 },
 "nbformat": 4,
 "nbformat_minor": 5
}
